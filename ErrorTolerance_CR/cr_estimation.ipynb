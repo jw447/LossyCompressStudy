{
 "cells": [
  {
   "cell_type": "code",
   "execution_count": 1,
   "metadata": {},
   "outputs": [
    {
     "ename": "SyntaxError",
     "evalue": "invalid syntax (<ipython-input-1-6c3815e9688d>, line 8)",
     "output_type": "error",
     "traceback": [
      "\u001b[0;36m  File \u001b[0;32m\"<ipython-input-1-6c3815e9688d>\"\u001b[0;36m, line \u001b[0;32m8\u001b[0m\n\u001b[0;31m    outlierS_s = ;\u001b[0m\n\u001b[0m                 ^\u001b[0m\n\u001b[0;31mSyntaxError\u001b[0m\u001b[0;31m:\u001b[0m invalid syntax\n"
     ]
    }
   ],
   "source": [
    "import numpy as np;\n",
    "\n",
    "def cr_estimation():\n",
    "    pointcnt_s = 640;\n",
    "    quant_intl_s = 8192;\n",
    "    hit_s = 590;\n",
    "    miss_s = 48;\n",
    "    outlierS_s = ;\n",
    "    nodecnt_s = 333;\n",
    "    encodeS_s = 337;\n",
    "    treeS_s = 2998;\n",
    "    TotalS = 1819;\n",
    "    \n",
    "    pointcnt_f = 65536;\n",
    "    hit_f = hit_s/pointcnt_S * pointcnt_f; # same hit ratio\n",
    "    miss_f = pointcnt_f - hit_f;\n",
    "    quant_intl_f = ;\n",
    "    nodecnt_f = ;\n",
    "    encodeS_f = encodeS_s/np.log2(nodecnt_s)*np.log2(nodecnt_f);\n",
    "    outlierS_f = miss_f*outlierS_s/miss_s;\n",
    "    treeS_f = treeS_s*nodecnt_f/nodecnt_s;\n",
    "    \n",
    "    \n",
    "    "
   ]
  },
  {
   "cell_type": "code",
   "execution_count": 2,
   "metadata": {},
   "outputs": [
    {
     "data": {
      "text/plain": [
       "3335"
      ]
     },
     "execution_count": 2,
     "metadata": {},
     "output_type": "execute_result"
    }
   ],
   "source": [
    "2998+337"
   ]
  },
  {
   "cell_type": "code",
   "execution_count": null,
   "metadata": {},
   "outputs": [],
   "source": []
  }
 ],
 "metadata": {
  "kernelspec": {
   "display_name": "Python 3",
   "language": "python",
   "name": "python3"
  },
  "language_info": {
   "codemirror_mode": {
    "name": "ipython",
    "version": 3
   },
   "file_extension": ".py",
   "mimetype": "text/x-python",
   "name": "python",
   "nbconvert_exporter": "python",
   "pygments_lexer": "ipython3",
   "version": "3.6.4"
  }
 },
 "nbformat": 4,
 "nbformat_minor": 2
}
