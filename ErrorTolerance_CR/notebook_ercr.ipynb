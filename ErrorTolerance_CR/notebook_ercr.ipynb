{
 "cells": [
  {
   "cell_type": "markdown",
   "metadata": {},
   "source": [
    "# The relation between Errorbound and Compression Ratio"
   ]
  },
  {
   "cell_type": "markdown",
   "metadata": {},
   "source": [
    "1. Point-wise relative errorbound is studied.\n",
    "2. Only full dataset is applied.\n",
    "3. Errorbound is [1e-11, 5e-0]\n"
   ]
  },
  {
   "cell_type": "code",
   "execution_count": 1,
   "metadata": {},
   "outputs": [],
   "source": [
    "import numpy as np\n",
    "import matplotlib.pyplot as plt\n",
    "import matplotlib\n",
    "\n",
    "ind = np.arange(12)"
   ]
  },
  {
   "cell_type": "markdown",
   "metadata": {},
   "source": [
    "## Original Data"
   ]
  },
  {
   "cell_type": "code",
   "execution_count": 2,
   "metadata": {},
   "outputs": [],
   "source": [
    "# Astro\n",
    "cr1 = [4.21,4.30,4.68,\n",
    "       4.38,3.62,4.12,\n",
    "       5.61,10.01,19.45,\n",
    "       39.35,74.89,160.09]\n",
    "\n",
    "# Blast2\n",
    "cr2 = [340.82,349.38,351.21,\n",
    "       408.74,390.61,391.53,\n",
    "       394.16,328.35,281.39,\n",
    "       287.18,330.06,168.87]\n",
    "\n",
    "# Bump\n",
    "cr3 = [2.56,1.86,2.21,\n",
    "      2.67,2.39,2.82,\n",
    "      5.11,9.85,20.43,\n",
    "      45.92,90.21,463.14,]\n",
    "\n",
    "# Dpot\n",
    "cr4 = [1.54,1.64,1.76,\n",
    "       1.91,2.07,2.27,\n",
    "       2.40,2.04,1.29,\n",
    "       2.51,4.61,8.58]\n",
    "\n",
    "# Eddy\n",
    "cr5 = [1.88,1.89,1.89,\n",
    "      1.91,1.89,1.94,\n",
    "      1.83,2.83,3.83,\n",
    "      5.71,9.80,22.88]\n",
    "\n",
    "# Fish\n",
    "cr6 = [11.99,11.45,11.92,\n",
    "      12.71,12.44,9.58,\n",
    "      8.11,9.28,12.79,\n",
    "      23.67,43.24,95.76]\n",
    "\n",
    "# Sedov\n",
    "cr7 = [4.27,5.18,5.20,\n",
    "      5.36,5.79,11.31,\n",
    "      25.88,64.56,238.15,\n",
    "      4007.38,3956.66,3956.66]\n",
    "\n",
    "# Yf17_p\n",
    "cr8 = [2.47,2.79,2.69,\n",
    "      2.52,2.33,2.40,\n",
    "      3.02,5.53,10.40,\n",
    "      20.77,57.17,129.75]\n",
    "\n",
    "# Yf17_t\n",
    "cr9 = [2.74,3.12,3.01,\n",
    "      2.59,2.43,2.67,\n",
    "      4.58,8.73,16.42,\n",
    "      40.89,119.09,3452.59]\n",
    "\n"
   ]
  },
  {
   "cell_type": "markdown",
   "metadata": {},
   "source": [
    "### Linear-scale Y-axis"
   ]
  },
  {
   "cell_type": "code",
   "execution_count": 113,
   "metadata": {},
   "outputs": [
    {
     "name": "stderr",
     "output_type": "stream",
     "text": [
      "/home/jon/anaconda3/lib/python3.6/site-packages/matplotlib/pyplot.py:523: RuntimeWarning: More than 20 figures have been opened. Figures created through the pyplot interface (`matplotlib.pyplot.figure`) are retained until explicitly closed and may consume too much memory. (To control this warning, see the rcParam `figure.max_open_warning`).\n",
      "  max_open_warning, RuntimeWarning)\n"
     ]
    }
   ],
   "source": [
    "f, axarr = plt.subplots(3,3)\n",
    "\n",
    "plt.tight_layout()\n",
    "\n",
    "axarr[0,0].bar(ind, cr1, width=0.3)\n",
    "axarr[0,0].set_title('Astro')\n",
    "axarr[0,0].set_xticks(np.arange(12))\n",
    "axarr[0,0].set_xticklabels(['1e-11','','','','','','1e-5','','','','','1e-0'],rotation=0)\n",
    "axarr[0,0].set_yticks(np.arange(0,160,50))\n",
    "axarr[0,0].set_yticklabels([0,50,100,150])\n",
    "\n",
    "axarr[0,1].bar(ind, cr2, width=0.3)\n",
    "axarr[0,1].set_title('Blast2')\n",
    "axarr[0,1].set_xticks(np.arange(12))\n",
    "axarr[0,1].set_xticklabels(['1e-11','','','','','','1e-5','','','','','1e-0'],rotation=0)\n",
    "axarr[0,1].set_yticks(np.arange(0,410,100))\n",
    "axarr[0,1].set_yticklabels([0,100,200,300,400])\n",
    "\n",
    "axarr[0,2].bar(ind, cr3, width=0.3)\n",
    "axarr[0,2].set_title('Bump')\n",
    "axarr[0,2].set_xticks(np.arange(12))\n",
    "axarr[0,2].set_xticklabels(['1e-11','','','','','','1e-5','','','','','1e-0'],rotation=0)\n",
    "axarr[0,2].set_yticks(np.arange(0,410,100))\n",
    "axarr[0,2].set_yticklabels([0,100,200,300,400])\n",
    "\n",
    "axarr[1,0].bar(ind, cr4, width=0.3)\n",
    "axarr[1,0].set_title('Dpot')\n",
    "axarr[1,0].set_xticks(np.arange(12))\n",
    "axarr[1,0].set_xticklabels(['1e-11','','','','','','1e-5','','','','','1e-0'],rotation=0)\n",
    "axarr[1,0].set_yticks(np.arange(0,11,5))\n",
    "axarr[1,0].set_yticklabels(np.arange(0,11,5))\n",
    "\n",
    "axarr[1,1].bar(ind, cr5, width=0.3)\n",
    "axarr[1,1].set_title('Eddy')\n",
    "axarr[1,1].set_xticks(np.arange(12))\n",
    "axarr[1,1].set_xticklabels(['1e-11','','','','','','1e-5','','','','','1e-0'],rotation=0)\n",
    "axarr[1,1].set_yticks(np.arange(0,26,10))\n",
    "axarr[1,1].set_yticklabels(np.arange(0,26,10))\n",
    "\n",
    "axarr[1,2].bar(ind, cr6, width=0.3)\n",
    "axarr[1,2].set_title('Fish')\n",
    "axarr[1,2].set_xticks(np.arange(12))\n",
    "axarr[1,2].set_xticklabels(['1e-11','','','','','','1e-5','','','','','1e-0'],rotation=0)\n",
    "axarr[1,2].set_yticks(np.arange(0,101,50))\n",
    "axarr[1,2].set_yticklabels(np.arange(0,101,50))\n",
    "\n",
    "axarr[2,0].bar(ind, cr7, width=0.3)\n",
    "axarr[2,0].set_title('Sedov_p')\n",
    "axarr[2,0].set_xticks(np.arange(12))\n",
    "axarr[2,0].set_xticklabels(['1e-11','','','','','','1e-5','','','','','1e-0'],rotation=0)\n",
    "axarr[2,0].set_yticks(np.arange(0,4001,2000))\n",
    "axarr[2,0].set_yticklabels(np.arange(0,4001,2000))\n",
    "\n",
    "axarr[2,1].bar(ind, cr8, width=0.3)\n",
    "axarr[2,1].set_title('Yf17_p')\n",
    "axarr[2,1].set_xticks(np.arange(12))\n",
    "axarr[2,1].set_xticklabels(['1e-11','','','','','','1e-5','','','','','1e-0'],rotation=0)\n",
    "axarr[2,1].set_yticks(np.arange(0,151,50))\n",
    "axarr[2,1].set_yticklabels(np.arange(0,151,50))\n",
    "\n",
    "axarr[2,2].bar(ind, cr9, width=0.3)\n",
    "axarr[2,2].set_title('Yf17_t')\n",
    "axarr[2,2].set_xticks(np.arange(12))\n",
    "axarr[2,2].set_xticklabels(['1e-11','','','','','','1e-5','','','','','1e-0'],rotation=0)\n",
    "axarr[2,2].set_yticks(np.arange(0,3501,1750))\n",
    "axarr[2,2].set_yticklabels(np.arange(0,3501,1750))\n",
    "\n",
    "plt.savefig('ercr_full.png',dpi=400,format='png',bbox_inches='tight')\n",
    "plt.gcf().clear()"
   ]
  },
  {
   "cell_type": "markdown",
   "metadata": {},
   "source": [
    "### Log-scale y-axis"
   ]
  },
  {
   "cell_type": "code",
   "execution_count": 13,
   "metadata": {},
   "outputs": [],
   "source": [
    "f, axarr = plt.subplots(3,3)\n",
    "\n",
    "plt.tight_layout()\n",
    "\n",
    "axarr[0,0].bar(ind, cr1, width=0.3,log=True)\n",
    "axarr[0,0].set_title('Astro')\n",
    "axarr[0,0].set_xticks(np.arange(12))\n",
    "axarr[0,0].set_xticklabels(['1e-11','','','','','','1e-5','','','','','1e-0'],rotation=0)\n",
    "\n",
    "axarr[0,1].bar(ind, cr2, width=0.3,log=True)\n",
    "axarr[0,1].set_title('Blast2')\n",
    "axarr[0,1].set_xticks(np.arange(12))\n",
    "axarr[0,1].set_xticklabels(['1e-11','','','','','','1e-5','','','','','1e-0'],rotation=0)\n",
    "\n",
    "axarr[0,2].bar(ind, cr3, width=0.3,log=True)\n",
    "axarr[0,2].set_title('Bump')\n",
    "axarr[0,2].set_xticks(np.arange(12))\n",
    "axarr[0,2].set_xticklabels(['1e-11','','','','','','1e-5','','','','','1e-0'],rotation=0)\n",
    "\n",
    "\n",
    "axarr[1,0].bar(ind, cr4, width=0.3,log=True)\n",
    "axarr[1,0].set_title('Dpot')\n",
    "axarr[1,0].set_xticks(np.arange(12))\n",
    "axarr[1,0].set_xticklabels(['1e-11','','','','','','1e-5','','','','','1e-0'],rotation=0)\n",
    "\n",
    "\n",
    "axarr[1,1].bar(ind, cr5, width=0.3,log=True)\n",
    "axarr[1,1].set_title('Eddy')\n",
    "axarr[1,1].set_xticks(np.arange(12))\n",
    "axarr[1,1].set_xticklabels(['1e-11','','','','','','1e-5','','','','','1e-0'],rotation=0)\n",
    "\n",
    "\n",
    "axarr[1,2].bar(ind, cr6, width=0.3,log=True)\n",
    "axarr[1,2].set_title('Fish')\n",
    "axarr[1,2].set_xticks(np.arange(12))\n",
    "axarr[1,2].set_xticklabels(['1e-11','','','','','','1e-5','','','','','1e-0'],rotation=0)\n",
    "\n",
    "\n",
    "axarr[2,0].bar(ind, cr7, width=0.3,log=True)\n",
    "axarr[2,0].set_title('Sedov_p')\n",
    "axarr[2,0].set_xticks(np.arange(12))\n",
    "axarr[2,0].set_xticklabels(['1e-11','','','','','','1e-5','','','','','1e-0'],rotation=0)\n",
    "\n",
    "\n",
    "axarr[2,1].bar(ind, cr8, width=0.3,log=True)\n",
    "axarr[2,1].set_title('Yf17_p')\n",
    "axarr[2,1].set_xticks(np.arange(12))\n",
    "axarr[2,1].set_xticklabels(['1e-11','','','','','','1e-5','','','','','1e-0'],rotation=0)\n",
    "\n",
    "\n",
    "axarr[2,2].bar(ind, cr9, width=0.3,log=True)\n",
    "axarr[2,2].set_title('Yf17_t')\n",
    "axarr[2,2].set_xticks(np.arange(12))\n",
    "axarr[2,2].set_xticklabels(['1e-11','','','','','','1e-5','','','','','1e-0'],rotation=0)\n",
    "\n",
    "plt.savefig('ercr_full_log.png',dpi=400,format='png',bbox_inches='tight')\n",
    "plt.gcf().clear()"
   ]
  },
  {
   "cell_type": "markdown",
   "metadata": {},
   "source": [
    "### Compression Metrics Insights\n"
   ]
  },
  {
   "cell_type": "code",
   "execution_count": 1,
   "metadata": {},
   "outputs": [],
   "source": [
    "import numpy as np\n",
    "PointCount=[65536,65536,65536,65536,65536,65536,65536,65536,65536,65536,65536]\n",
    "# Astro\n",
    "NodeCount=[7,123,863,5105,14703,15319,11347,4957,1467,413,87,27] #\n",
    "OutlierCount=[46876,28342,26531,22545,14344,6046,1064,63,0,0,0,0]\n",
    "TreeByteSize=[50,862,7768,45946,132328,137872,102124,44614,13204,3718,610,190]\n",
    "EncodeSize=[10585,24824,26784,32885,46961,50999,48368,38483,27354,19665,17630,9624]\n",
    "TotalSize=[124495,122025,111919,119728,144878,127166,98838,52394,26954,13324,7001,3275]\n",
    "\n",
    "CompressionRatio=[4.21,4.30,4.68,4.38,3.62,4.12,5.61,10.01,19.45,39.35,74.89,160.09] #\n",
    "HitRatio=[0.28,0.56,0.60,0.66,0.78,0.90,0.98,0.999,1,1,1,1] # \n",
    "OutlierSize=np.subtract(TotalSize,np.add(TreeByteSize,EncodeSize));"
   ]
  },
  {
   "cell_type": "code",
   "execution_count": null,
   "metadata": {},
   "outputs": [],
   "source": [
    "# Blast2 ------------- need fixing\n",
    "import numpy as np\n",
    "PointCount=[578880,578880,578880,578880,578880,578880,578880,578880,578880,578880,578880,578880]\n",
    "NodeCount=[3,3  ] #\n",
    "Hit=[506812,506812,] # \n",
    "OutlierCount=[72066,72066 ]\n",
    "TreeByteSize=[22,22 ]\n",
    "EncodeSize=[72360,72360, ]\n",
    "TotalSize=[13588 ]\n",
    "CompressionRatio=[340.82 ] #\n",
    "HitRatio=np.divide(Hit,PointCount)\n",
    "OutlierSize=np.subtract(TotalSize,np.add(TreeByteSize,EncodeSize));"
   ]
  },
  {
   "cell_type": "code",
   "execution_count": null,
   "metadata": {},
   "outputs": [],
   "source": []
  },
  {
   "cell_type": "code",
   "execution_count": null,
   "metadata": {},
   "outputs": [],
   "source": []
  },
  {
   "cell_type": "code",
   "execution_count": null,
   "metadata": {},
   "outputs": [],
   "source": []
  },
  {
   "cell_type": "code",
   "execution_count": null,
   "metadata": {},
   "outputs": [],
   "source": []
  },
  {
   "cell_type": "code",
   "execution_count": null,
   "metadata": {},
   "outputs": [],
   "source": []
  },
  {
   "cell_type": "code",
   "execution_count": null,
   "metadata": {},
   "outputs": [],
   "source": []
  },
  {
   "cell_type": "code",
   "execution_count": null,
   "metadata": {},
   "outputs": [],
   "source": []
  },
  {
   "cell_type": "code",
   "execution_count": null,
   "metadata": {},
   "outputs": [],
   "source": []
  },
  {
   "cell_type": "code",
   "execution_count": null,
   "metadata": {},
   "outputs": [],
   "source": []
  },
  {
   "cell_type": "code",
   "execution_count": 2,
   "metadata": {},
   "outputs": [
    {
     "data": {
      "text/plain": [
       "<matplotlib.legend.Legend at 0x7f06665d4ba8>"
      ]
     },
     "execution_count": 2,
     "metadata": {},
     "output_type": "execute_result"
    }
   ],
   "source": [
    "import numpy as np\n",
    "import matplotlib.pyplot as plt\n",
    "\n",
    "ind = np.arange(12)\n",
    "\n",
    "plt.subplot(3,1,1)\n",
    "plt.plot(ind,NodeCount,'r^-',label=\"NodeCount\",markersize=4)\n",
    "plt.plot(ind,OutlierCount,'gs-',mfc='none',label=\"OutlierCount\",markersize=4)\n",
    "plt.plot(ind,TreeByteSize,'bp-',label=\"TreeSize\",markersize=4)\n",
    "plt.plot(ind,EncodeSize,'c8-',label=\"EncodeSize\",markersize=4)\n",
    "plt.plot(ind,TotalSize,'ys-',mfc='none',label='TotalSize',markersize=4)\n",
    "plt.yticks(np.arange(0,150001,50000))\n",
    "plt.xticks(np.arange(12), ('1e-11','1e-10','1e-9','1e-8','1e-7','1e-6','1e-5','1e-4','1e-3','1e-2','1e-1','1e-0'),rotation=20)\n",
    "plt.legend(bbox_to_anchor=(1.05, 1), loc=2, borderaxespad=0.,prop={'size': 8})\n",
    "\n",
    "plt.subplot(3,1,2)\n",
    "plt.plot(ind,HitRatio,'ro-',label=\"HitRatio\",markersize=5)\n",
    "plt.xticks(np.arange(12), ('1e-11','1e-10','1e-9','1e-8','1e-7','1e-6','1e-5','1e-4','1e-3','1e-2','1e-1','1e-0'),rotation=20)\n",
    "plt.yticks(np.arange(0,1.001,0.25))\n",
    "plt.legend(bbox_to_anchor=(1.05, 1), loc=2, borderaxespad=0.,prop={'size': 8})\n",
    "\n",
    "plt.subplot(3,1,3)\n",
    "plt.plot(ind,CompressionRatio,'ro-',label=\"CompressionRatio\",markersize=5)\n",
    "plt.xticks(np.arange(12), ('1e-11','1e-10','1e-9','1e-8','1e-7','1e-6','1e-5','1e-4','1e-3','1e-2','1e-1','1e-0'),rotation=20)\n",
    "plt.yticks(np.arange(0,161,50))\n",
    "plt.legend(bbox_to_anchor=(1.05, 1), loc=2, borderaxespad=0.,prop={'size': 8})"
   ]
  },
  {
   "cell_type": "code",
   "execution_count": 49,
   "metadata": {},
   "outputs": [],
   "source": [
    "plt.tight_layout()\n",
    "plt.savefig('ercr_metrics.png',dpi=200,format='png',bbox_inches='tight')\n",
    "plt.gcf().clear()"
   ]
  },
  {
   "cell_type": "code",
   "execution_count": 47,
   "metadata": {},
   "outputs": [
    {
     "data": {
      "text/plain": [
       "160.09"
      ]
     },
     "execution_count": 47,
     "metadata": {},
     "output_type": "execute_result"
    }
   ],
   "source": [
    "max(CompressionRatio)"
   ]
  },
  {
   "cell_type": "code",
   "execution_count": 5,
   "metadata": {},
   "outputs": [
    {
     "data": {
      "text/plain": [
       "15319"
      ]
     },
     "execution_count": 5,
     "metadata": {},
     "output_type": "execute_result"
    }
   ],
   "source": [
    "\n"
   ]
  },
  {
   "cell_type": "code",
   "execution_count": null,
   "metadata": {},
   "outputs": [],
   "source": []
  }
 ],
 "metadata": {
  "kernelspec": {
   "display_name": "Python 3",
   "language": "python",
   "name": "python3"
  },
  "language_info": {
   "codemirror_mode": {
    "name": "ipython",
    "version": 3
   },
   "file_extension": ".py",
   "mimetype": "text/x-python",
   "name": "python",
   "nbconvert_exporter": "python",
   "pygments_lexer": "ipython3",
   "version": "3.6.4"
  }
 },
 "nbformat": 4,
 "nbformat_minor": 2
}
