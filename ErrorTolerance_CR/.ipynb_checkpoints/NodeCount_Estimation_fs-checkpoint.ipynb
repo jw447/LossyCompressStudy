{
 "cells": [
  {
   "cell_type": "markdown",
   "metadata": {},
   "source": [
    "# The Gaussian-based Full Data NodeCount Estimation from Sample Data"
   ]
  },
  {
   "cell_type": "code",
   "execution_count": 1,
   "metadata": {},
   "outputs": [],
   "source": [
    "import numpy as np\n",
    "from scipy.stats import norm\n",
    "import sys"
   ]
  },
  {
   "cell_type": "code",
   "execution_count": 3,
   "metadata": {},
   "outputs": [
    {
     "name": "stdout",
     "output_type": "stream",
     "text": [
      "data length= 590\n",
      "mu, std 4018.27457627 501.387193522\n",
      "4021.46581669 502.428348857\n",
      "s 3106\n"
     ]
    }
   ],
   "source": [
    "data_s1 = []\n",
    "with open('astro_s1.txt') as f:\n",
    "    for line in f:\n",
    "        data_s1.append(int(line))\n",
    "\n",
    "print('data length=', len(data_s1))\n",
    "\n",
    "mu, std = norm.fit(data_s1)\n",
    "print('mu, std', mu, std)\n",
    "\n",
    "data_estimated = np.random.normal(loc=mu, scale=std, size=int(np.round(97104*.9979)))\n",
    "mu_e, std_e = norm.fit(data_estimated)\n",
    "print(mu_e, std_e)\n",
    "\n",
    "s = set()\n",
    "for i in data_estimated:\n",
    "    if int(i) in s:\n",
    "        continue\n",
    "    else:\n",
    "        s.add(int(i))\n",
    "\n",
    "print('s', len(s))"
   ]
  },
  {
   "cell_type": "code",
   "execution_count": 9,
   "metadata": {},
   "outputs": [
    {
     "name": "stdout",
     "output_type": "stream",
     "text": [
      "data len 65269\n",
      "6457\n"
     ]
    }
   ],
   "source": [
    "dataf = []\n",
    "with open('astro_f.txt') as f:\n",
    "    for line in f:\n",
    "        dataf.append(int(line))\n",
    "\n",
    "print('data len', len(dataf))\n",
    "print(len(set(dataf)))"
   ]
  },
  {
   "cell_type": "code",
   "execution_count": 8,
   "metadata": {},
   "outputs": [
    {
     "name": "stdout",
     "output_type": "stream",
     "text": [
      "mu_f, std_f 32731.0032328 2258.43103832\n"
     ]
    }
   ],
   "source": [
    "mu_f, std_f = norm.fit(dataf)\n",
    "print('mu_f, std_f', mu_f, std_f)"
   ]
  },
  {
   "cell_type": "code",
   "execution_count": null,
   "metadata": {},
   "outputs": [],
   "source": []
  }
 ],
 "metadata": {
  "kernelspec": {
   "display_name": "Python 3",
   "language": "python",
   "name": "python3"
  },
  "language_info": {
   "codemirror_mode": {
    "name": "ipython",
    "version": 3
   },
   "file_extension": ".py",
   "mimetype": "text/x-python",
   "name": "python",
   "nbconvert_exporter": "python",
   "pygments_lexer": "ipython3",
   "version": "3.6.4"
  }
 },
 "nbformat": 4,
 "nbformat_minor": 2
}
