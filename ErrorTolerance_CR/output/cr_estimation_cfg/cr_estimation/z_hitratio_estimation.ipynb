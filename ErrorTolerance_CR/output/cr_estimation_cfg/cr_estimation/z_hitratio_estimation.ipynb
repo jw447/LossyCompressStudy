{
 "cells": [
  {
   "cell_type": "markdown",
   "metadata": {},
   "source": [
    "## HitRatio Estimation"
   ]
  },
  {
   "cell_type": "code",
   "execution_count": 11,
   "metadata": {
    "scrolled": false
   },
   "outputs": [],
   "source": [
    "import matplotlib.pyplot as plt\n",
    "import numpy as np\n",
    "import matplotlib.figure as fig\n",
    "import math\n",
    "\n",
    "fname = [\"astro\", \"blast2_p\", \"bump\", \"dpot\", \"eddy\", \"fish\", \"sedov_p\", \"yf17_p\", \"yf17_t\"]\n",
    "err = [1e-11,1e-10,1e-9,1e-8,1e-7,1e-6,1e-5,1e-4,1e-3,1e-2,1e-1,1e-0] # point-wise relative error bound\n",
    "intvCapacity = 2097152\n",
    "color = [\"coral\",\"crimson\",\"cyan\",\"fuchsia\",\"gold\",\"lime\",\"magenta\",\"navy\",\"teal\"]\n"
   ]
  },
  {
   "cell_type": "code",
   "execution_count": 12,
   "metadata": {},
   "outputs": [
    {
     "name": "stdout",
     "output_type": "stream",
     "text": [
      "original hitratio: [  1.10000000e-05   1.13000000e-04   1.14300000e-03   1.10400000e-02\n",
      "   1.08858000e-01   7.82599000e-01   9.60098000e-01   9.98256000e-01\n",
      "   9.99933000e-01   9.99986000e-01   9.99993000e-01   9.99993000e-01]\n"
     ]
    }
   ],
   "source": [
    "hitratio_o = []\n",
    "with open(\"eddy-hitratio.txt\") as inputfile:\n",
    "    for line in inputfile:\n",
    "        hitratio_o.append(float(line.strip('\\n')))\n",
    "\n",
    "hitratio_o=np.flip(hitratio_o,0)\n",
    "print(\"original hitratio:\",hitratio_o)\n",
    "# estimation of real_precision(average of precision)\n",
    "data=[]\n",
    "with open('eddy-data.txt') as inputfile:\n",
    "    for line in inputfile:\n",
    "        data.append(float(line.strip('\\n')))\n",
    "\n",
    "subdata = 0\n",
    "j=0\n",
    "for i in range(0,len(data)):\n",
    "    if(i%32==0):\n",
    "        j=j+1\n",
    "        subdata = subdata+data[i]\n",
    "mean_sub = subdata/j # the mean of points that decides the real_precision\n"
   ]
  },
  {
   "cell_type": "code",
   "execution_count": 30,
   "metadata": {
    "scrolled": false
   },
   "outputs": [
    {
     "name": "stdout",
     "output_type": "stream",
     "text": [
      "381\n",
      "5059\n",
      "50958\n",
      "117941\n",
      "137212\n",
      "155905\n",
      "165848\n",
      "29028\n",
      "3120\n",
      "323\n",
      "32\n",
      "3\n"
     ]
    }
   ],
   "source": [
    "err = [1e-11,1e-10,1e-9,1e-8,1e-7,1e-6,1e-5,1e-4,1e-3,1e-2,1e-1,1e-0] # point-wise relative error bound\n",
    "radius_o=[0.044922,0.453125,4.499998,45.999978,463.999779,4607.997803,45055.978516,458751.781250,4456445.875000,46137322.000000,452984616.000000,4563400576.000000]\n",
    "\n",
    "# i=0\n",
    "hitratio_esti = []\n",
    "for i in range(0,12):\n",
    "#     hitratio_esti = []\n",
    "    PredAbsErr = []\n",
    "    with open(\"eddy-1e-\"+str(i)+\"-prediction_error.txt\") as inputfile:\n",
    "        for line in inputfile:\n",
    "            PredAbsErr.append(float(line.strip('\\n')))\n",
    "\n",
    "    radius_esti = radius_o[i]\n",
    "    count = 0\n",
    "    for h in range(0,len(PredAbsErr)):\n",
    "        if (abs(PredAbsErr[h])< radius_esti):\n",
    "            count = count+1\n",
    "    print(count)        \n",
    "    hitratio_esti.append(count/len(data))"
   ]
  },
  {
   "cell_type": "code",
   "execution_count": 14,
   "metadata": {},
   "outputs": [
    {
     "data": {
      "image/png": "[encoded data removed]",
      "text/plain": [
       "<matplotlib.figure.Figure at 0x7fd28f6377b8>"
      ]
     },
     "metadata": {},
     "output_type": "display_data"
    }
   ],
   "source": [
    "plt.plot(np.arange(1,13),hitratio_esti,'bs-',label=\"Hit-Ratio Estimation\")\n",
    "#plt.plot(np.arange(1,13),hitratio_o,'rD-',label=\"Hit-Ratio Original\")\n",
    "\n",
    "lgd=plt.legend(loc=2, bbox_to_anchor=(1.05,1),borderaxespad=0)\n",
    "plt.rc('font', size=15)          # controls default text sizes\n",
    "plt.xticks([1,2,3,4,5,6,7,8,9,10,11,12])\n",
    "plt.yticks([0,.2,.4,.6,.8,1])\n",
    "# plt.title('Original/Estimation of Hit-Ratio(Astro)')\n",
    "# plt.savefig('astro_hre.png', bbox_extra_artists=(lgd,), bbox_inches='tight')\n",
    "plt.show()\n",
    "plt.clf()"
   ]
  },
  {
   "cell_type": "code",
   "execution_count": 33,
   "metadata": {},
   "outputs": [
    {
     "name": "stdout",
     "output_type": "stream",
     "text": [
      "0.061404874458629376\n",
      "0.12280974891725875\n",
      "0.18421462337588812\n",
      "0.2456194978345175\n",
      "0.3070243722931469\n",
      "0.36842924675177624\n",
      "0.42983412121040565\n",
      "0.491238995669035\n",
      "0.5526438701276644\n",
      "0.6140487445862938\n",
      "0.6754536190449232\n",
      "0.7368584935035525\n"
     ]
    },
    {
     "data": {
      "image/png": "[encoded data removed]",
      "text/plain": [
       "<matplotlib.figure.Figure at 0x7fd28ec78860>"
      ]
     },
     "metadata": {},
     "output_type": "display_data"
    }
   ],
   "source": [
    "# How Sz does this\n",
    "dataLength = len(data)\n",
    "spaceFillingValue = data\n",
    "segment_size = 32\n",
    "hit = 0\n",
    "hr = []\n",
    "for i in range(0,12):\n",
    "    pwrErrBound = []\n",
    "    with open('Eddy/eddy-1e-'+str(i)+'-prediction.txt') as inputfile:\n",
    "        for line in inputfile:\n",
    "            pwrErrBound.append(float(line.strip('\\n')))\n",
    "\n",
    "    intvCapacity = 2097152\n",
    "    j=0\n",
    "\n",
    "    realPrecision = pwrErrBound[j]\n",
    "    checkRadius = (intvCapacity-1)*realPrecision\n",
    "\n",
    "    for i in range(2,dataLength):\n",
    "\n",
    "        curData = spaceFillingValue[i];\n",
    "        if(i%segment_size==0):\n",
    "            realPrecision = pwrErrBound[j]\n",
    "            j= j + 1\n",
    "            checkRadius = (intvCapacity-1)*realPrecision;\n",
    "#         print(checkRadius)\n",
    "        # pred = 2*last3CmprsData[0] - last3CmprsData[1];\n",
    "        pred = 2*spaceFillingValue[i-1]-spaceFillingValue[i-2]\n",
    "        predAbsErr = abs(curData - pred);\n",
    "\n",
    "        if(predAbsErr<checkRadius):\n",
    "            hit = hit + 1;\n",
    "    hr.append(hit/dataLength)\n",
    "    print(hit/dataLength);\n",
    "    \n",
    "plt.plot(np.arange(0,12),hr,'ro-')\n",
    "plt.show()"
   ]
  },
  {
   "cell_type": "code",
   "execution_count": 31,
   "metadata": {},
   "outputs": [
    {
     "data": {
      "text/plain": [
       "8831"
      ]
     },
     "execution_count": 31,
     "metadata": {},
     "output_type": "execute_result"
    }
   ],
   "source": [
    "j"
   ]
  },
  {
   "cell_type": "markdown",
   "metadata": {},
   "source": [
    "### Original Check_Radius\n",
    "\n",
    "0.044922\n",
    "0.453125\n",
    "4.499998\n",
    "45.999978\n",
    "463.999779\n",
    "4607.997803\n",
    "45055.978516\n",
    "458751.781250\n",
    "4456445.875000\n",
    "46137322.000000\n",
    "452984616.000000\n",
    "4563400576.000000"
   ]
  },
  {
   "cell_type": "markdown",
   "metadata": {},
   "source": [
    "### Estimated Check_Radius\n",
    "\n",
    "65.25199\n",
    "652.51993\n",
    "6525.19937\n",
    "65251.99377\n",
    "652519.93771\n",
    "6525199.37717\n",
    "65251993.77176\n",
    "652519937.71761\n",
    "6525199377.17610\n",
    "65251993771.76102\n",
    "652519937717.6102\n",
    "6525199377176.103"
   ]
  },
  {
   "cell_type": "markdown",
   "metadata": {},
   "source": [
    "### Scaled Estimated Check_Radius\n",
    "\n",
    "0.06525\n",
    "0.65251\n",
    "6.52519\n",
    "65.25199\n",
    "652.51993\n",
    "6525.19937\n",
    "65251.99377\n",
    "652519.93771\n",
    "6525199.37717\n",
    "65251993.77176\n",
    "652519937.71761\n",
    "6525199377.17610"
   ]
  },
  {
   "cell_type": "code",
   "execution_count": 17,
   "metadata": {},
   "outputs": [],
   "source": [
    "# # visualization\n",
    "# density,bins = np.histogram(prederr_esti,bins=500,density=True)\n",
    "\n",
    "# fig, ((ax1, ax2),(ax3, ax4))  = plt.subplots(nrows=2, ncols=2, sharex=True, figsize=(8,8))\n",
    "# widths = bins[:-1] - bins[1:]\n",
    "# ￼\n",
    "\n",
    "# x=np.arange(-.2,.2,.001)\n",
    "# y = 1/(std*np.sqrt(2*np.pi))*np.exp(-(x-mu)**2/(2*std**2))/max(1/(std*np.sqrt(2*np.pi))*np.exp(-(x-mu)**2/(2*std**2)))/1.5\n",
    "\n",
    "# ax3.bar(bins[1:],density,widths)\n",
    "# ax4.bar(bins[1:],density/density.sum(),widths,label=\"normalized hist\")\n",
    "# ax4.plot(x, y,linewidth=2.5, color='r',label=\"fitted Gaussian model\")\n",
    "\n",
    "# ax2.set_ylabel('Not normalized')\n",
    "# ax4.set_ylabel('Normalized')\n",
    "\n",
    "# ax4.set_xlim([-.2,.2])\n",
    "# ax1.set_ylim([0,300])\n",
    "# ax2.set_ylim([0,.005])\n",
    "\n",
    "# fig.tight_layout()\n",
    "# plt.show()\n",
    "# plt.clf()"
   ]
  }
 ],
 "metadata": {
  "kernelspec": {
   "display_name": "Python 3",
   "language": "python",
   "name": "python3"
  },
  "language_info": {
   "codemirror_mode": {
    "name": "ipython",
    "version": 3
   },
   "file_extension": ".py",
   "mimetype": "text/x-python",
   "name": "python",
   "nbconvert_exporter": "python",
   "pygments_lexer": "ipython3",
   "version": "3.6.4"
  }
 },
 "nbformat": 4,
 "nbformat_minor": 2
}
