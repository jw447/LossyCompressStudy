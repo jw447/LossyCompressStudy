{
 "cells": [
  {
   "cell_type": "markdown",
   "metadata": {},
   "source": [
    "# Hit-Ratio Based Compression Ratio Estimation for different CFGs"
   ]
  },
  {
   "cell_type": "code",
   "execution_count": 20,
   "metadata": {},
   "outputs": [],
   "source": [
    "import numpy as np\n",
    "import pandas\n",
    "import matplotlib as plt\n",
    "import math\n",
    "\n",
    "Fname=[\"astro\", \"blast2_p\", \"bump\", \"dpot\", \"eddy\", \"fish\", \"sedov_p\", \"yf17_p\", \"yf17_t\"]\n",
    "PointCount = [65536,578880,55692,20694,282616,65536,78144,97104,97104]\n",
    "\n",
    "Error_bound = [1e-11, 1e-10, 1e-9, 1e-8, 1e-7, 1e-6, 1e-5, 1e-4, 1e-3, 1e-2, 1e-1, 1e-0]\n",
    "quant_factors = 2097152\n",
    "\n",
    "cr_metrics = pandas.DataFrame(index=Error_bound,columns=[\"PointCount\",\"QF\",\"HitRatio\",\"NodeCount\",\"TreeSize\",\"EncodeSize\",\"CR\"])"
   ]
  },
  {
   "cell_type": "code",
   "execution_count": 21,
   "metadata": {},
   "outputs": [],
   "source": [
    "Estimated_HR=[[0.596771240234375, 0.6642303466796875, 0.7984771728515625, 0.9241790771484375, 0.9940948486328125, 0.999969482421875, 0.999969482421875, 0.999969482421875, 0.999969482421875, 0.999969482421875, 0.999969482421875, 0.999969482421875],\n",
    "[0.8896558872305141, 0.8896558872305141, 0.8896558872305141, 0.8896558872305141, 0.9084369817578772, 0.9635019347705915, 0.9999965450525152, 0.9999965450525152, 0.9999965450525152, 0.9999965450525152, 0.9999965450525152, 0.9999965450525152],\n",
    "[0.33965381024204555, 0.4181390504919917, 0.6771170006464124, 0.9643395819866408, 0.9968038497450262, 0.9999640881993823, 0.9999640881993823, 0.9999640881993823, 0.9999640881993823, 0.9999640881993823, 0.9999640881993823, 0.9999640881993823],\n",
    "[0.20078283560452306, 0.20083115878998745, 0.20102445153184498, 0.2043587513288876, 0.23963467671788924, 0.4588286459843433, 0.9895621919396926, 0.9999033536290712, 0.9999033536290712, 0.9999033536290712, 0.9999033536290712, 0.9999033536290712],\n",
    "[0.4288186089959521, 0.49522673875505985, 0.5618754776799615, 0.6401336088544173, 0.7345833215387664, 0.8434908143912588, 0.9904959379511422, 0.9999929232598296, 0.9999929232598296, 0.9999929232598296, 0.9999929232598296, 0.9999929232598296],\n",
    "[0.83013916015625, 0.830413818359375, 0.8327789306640625, 0.854278564453125, 0.9544677734375, 0.98773193359375, 0.999969482421875, 0.999969482421875, 0.999969482421875, 0.999969482421875, 0.999969482421875, 0.999969482421875],\n",
    "[0.5763206388206388, 0.9522548116298116, 0.9998464373464373, 0.9999744062244063, 0.9999744062244063, 0.9999744062244063, 0.9999744062244063, 0.9999744062244063, 0.9999744062244063, 0.9999744062244063, 0.9999744062244063, 0.9999744062244063],\n",
    "[0.09902784643269072, 0.2647264788268249, 0.4019710825506673, 0.6637522656121272, 0.9652125556104795, 0.999938210578349, 0.9999794035261164, 0.9999794035261164, 0.9999794035261164, 0.9999794035261164, 0.9999794035261164, 0.9999794035261164],\n",
    "[0.183679354094579, 0.33697890921074314, 0.539514335145823, 0.8974707530070852, 0.9994541934420828, 0.9999794035261164, 0.9999794035261164, 0.9999794035261164, 0.9999794035261164, 0.9999794035261164, 0.9999794035261164, 0.9999794035261164]]"
   ]
  },
  {
   "cell_type": "code",
   "execution_count": 22,
   "metadata": {},
   "outputs": [
    {
     "data": {
      "text/plain": [
       "9"
      ]
     },
     "execution_count": 22,
     "metadata": {},
     "output_type": "execute_result"
    }
   ],
   "source": [
    "len(Fname)"
   ]
  },
  {
   "cell_type": "code",
   "execution_count": 23,
   "metadata": {},
   "outputs": [
    {
     "data": {
      "text/html": [
       "<div>\n",
       "<style>\n",
       "    .dataframe thead tr:only-child th {\n",
       "        text-align: right;\n",
       "    }\n",
       "\n",
       "    .dataframe thead th {\n",
       "        text-align: left;\n",
       "    }\n",
       "\n",
       "    .dataframe tbody tr th {\n",
       "        vertical-align: top;\n",
       "    }\n",
       "</style>\n",
       "<table border=\"1\" class=\"dataframe\">\n",
       "  <thead>\n",
       "    <tr style=\"text-align: right;\">\n",
       "      <th></th>\n",
       "      <th>PointCount</th>\n",
       "      <th>QF</th>\n",
       "      <th>HitRatio</th>\n",
       "      <th>NodeCount</th>\n",
       "      <th>TreeSize</th>\n",
       "      <th>EncodeSize</th>\n",
       "      <th>CR</th>\n",
       "    </tr>\n",
       "  </thead>\n",
       "  <tbody>\n",
       "    <tr>\n",
       "      <th>1.000000e-11</th>\n",
       "      <td>65536</td>\n",
       "      <td>2097152</td>\n",
       "      <td>0.596771</td>\n",
       "      <td>NaN</td>\n",
       "      <td>NaN</td>\n",
       "      <td>NaN</td>\n",
       "      <td>NaN</td>\n",
       "    </tr>\n",
       "    <tr>\n",
       "      <th>1.000000e-10</th>\n",
       "      <td>65536</td>\n",
       "      <td>2097152</td>\n",
       "      <td>0.664230</td>\n",
       "      <td>NaN</td>\n",
       "      <td>NaN</td>\n",
       "      <td>NaN</td>\n",
       "      <td>NaN</td>\n",
       "    </tr>\n",
       "    <tr>\n",
       "      <th>1.000000e-09</th>\n",
       "      <td>65536</td>\n",
       "      <td>2097152</td>\n",
       "      <td>0.798477</td>\n",
       "      <td>NaN</td>\n",
       "      <td>NaN</td>\n",
       "      <td>NaN</td>\n",
       "      <td>NaN</td>\n",
       "    </tr>\n",
       "    <tr>\n",
       "      <th>1.000000e-08</th>\n",
       "      <td>65536</td>\n",
       "      <td>2097152</td>\n",
       "      <td>0.924179</td>\n",
       "      <td>NaN</td>\n",
       "      <td>NaN</td>\n",
       "      <td>NaN</td>\n",
       "      <td>NaN</td>\n",
       "    </tr>\n",
       "    <tr>\n",
       "      <th>1.000000e-07</th>\n",
       "      <td>65536</td>\n",
       "      <td>2097152</td>\n",
       "      <td>0.994095</td>\n",
       "      <td>NaN</td>\n",
       "      <td>NaN</td>\n",
       "      <td>NaN</td>\n",
       "      <td>NaN</td>\n",
       "    </tr>\n",
       "    <tr>\n",
       "      <th>1.000000e-06</th>\n",
       "      <td>65536</td>\n",
       "      <td>2097152</td>\n",
       "      <td>0.999969</td>\n",
       "      <td>NaN</td>\n",
       "      <td>NaN</td>\n",
       "      <td>NaN</td>\n",
       "      <td>NaN</td>\n",
       "    </tr>\n",
       "    <tr>\n",
       "      <th>1.000000e-05</th>\n",
       "      <td>65536</td>\n",
       "      <td>2097152</td>\n",
       "      <td>0.999969</td>\n",
       "      <td>NaN</td>\n",
       "      <td>NaN</td>\n",
       "      <td>NaN</td>\n",
       "      <td>NaN</td>\n",
       "    </tr>\n",
       "    <tr>\n",
       "      <th>1.000000e-04</th>\n",
       "      <td>65536</td>\n",
       "      <td>2097152</td>\n",
       "      <td>0.999969</td>\n",
       "      <td>NaN</td>\n",
       "      <td>NaN</td>\n",
       "      <td>NaN</td>\n",
       "      <td>NaN</td>\n",
       "    </tr>\n",
       "    <tr>\n",
       "      <th>1.000000e-03</th>\n",
       "      <td>65536</td>\n",
       "      <td>2097152</td>\n",
       "      <td>0.999969</td>\n",
       "      <td>NaN</td>\n",
       "      <td>NaN</td>\n",
       "      <td>NaN</td>\n",
       "      <td>NaN</td>\n",
       "    </tr>\n",
       "    <tr>\n",
       "      <th>1.000000e-02</th>\n",
       "      <td>65536</td>\n",
       "      <td>2097152</td>\n",
       "      <td>0.999969</td>\n",
       "      <td>NaN</td>\n",
       "      <td>NaN</td>\n",
       "      <td>NaN</td>\n",
       "      <td>NaN</td>\n",
       "    </tr>\n",
       "    <tr>\n",
       "      <th>1.000000e-01</th>\n",
       "      <td>65536</td>\n",
       "      <td>2097152</td>\n",
       "      <td>0.999969</td>\n",
       "      <td>NaN</td>\n",
       "      <td>NaN</td>\n",
       "      <td>NaN</td>\n",
       "      <td>NaN</td>\n",
       "    </tr>\n",
       "    <tr>\n",
       "      <th>1.000000e+00</th>\n",
       "      <td>65536</td>\n",
       "      <td>2097152</td>\n",
       "      <td>0.999969</td>\n",
       "      <td>NaN</td>\n",
       "      <td>NaN</td>\n",
       "      <td>NaN</td>\n",
       "      <td>NaN</td>\n",
       "    </tr>\n",
       "  </tbody>\n",
       "</table>\n",
       "</div>"
      ],
      "text/plain": [
       "              PointCount       QF  HitRatio NodeCount TreeSize EncodeSize   CR\n",
       "1.000000e-11       65536  2097152  0.596771       NaN      NaN        NaN  NaN\n",
       "1.000000e-10       65536  2097152  0.664230       NaN      NaN        NaN  NaN\n",
       "1.000000e-09       65536  2097152  0.798477       NaN      NaN        NaN  NaN\n",
       "1.000000e-08       65536  2097152  0.924179       NaN      NaN        NaN  NaN\n",
       "1.000000e-07       65536  2097152  0.994095       NaN      NaN        NaN  NaN\n",
       "1.000000e-06       65536  2097152  0.999969       NaN      NaN        NaN  NaN\n",
       "1.000000e-05       65536  2097152  0.999969       NaN      NaN        NaN  NaN\n",
       "1.000000e-04       65536  2097152  0.999969       NaN      NaN        NaN  NaN\n",
       "1.000000e-03       65536  2097152  0.999969       NaN      NaN        NaN  NaN\n",
       "1.000000e-02       65536  2097152  0.999969       NaN      NaN        NaN  NaN\n",
       "1.000000e-01       65536  2097152  0.999969       NaN      NaN        NaN  NaN\n",
       "1.000000e+00       65536  2097152  0.999969       NaN      NaN        NaN  NaN"
      ]
     },
     "execution_count": 23,
     "metadata": {},
     "output_type": "execute_result"
    }
   ],
   "source": [
    "# try astro\n",
    "cr_metrics.QF = quant_factors\n",
    "cr_metrics.PointCount = PointCount[0]\n",
    "cr_metrics.HitRatio = Estimated_HR[0] # astr0\n",
    "cr_metrics"
   ]
  },
  {
   "cell_type": "code",
   "execution_count": 38,
   "metadata": {},
   "outputs": [],
   "source": [
    "import sys\n",
    "\n",
    "def nodecount_esti(data):\n",
    "    # from tao's model\n",
    "    mu, std = np.mean(data), np.std(data)\n",
    "    print('mu, std', mu, std)\n",
    "\n",
    "    data_m = np.random.normal(loc=mu, scale=std, size=len(data))\n",
    "\n",
    "    s = set()\n",
    "    for i in data_m:\n",
    "        if int(i) in s:\n",
    "            continue\n",
    "        else:\n",
    "            s.add(int(i))\n",
    "\n",
    "    print('node count', max(len(s), len(set(data))+1))"
   ]
  },
  {
   "cell_type": "code",
   "execution_count": 39,
   "metadata": {},
   "outputs": [
    {
     "name": "stdout",
     "output_type": "stream",
     "text": [
      "mu, std 0.984637555573 0.0645709252985\n",
      "node count 16808\n"
     ]
    }
   ],
   "source": [
    "data=[]\n",
    "with open('astro-data.txt') as inputfile:\n",
    "    for line in inputfile:\n",
    "        data.append(float(line.strip('\\n')))\n",
    "nodecount_esti(data)"
   ]
  },
  {
   "cell_type": "code",
   "execution_count": null,
   "metadata": {},
   "outputs": [],
   "source": []
  }
 ],
 "metadata": {
  "kernelspec": {
   "display_name": "Python 3",
   "language": "python",
   "name": "python3"
  },
  "language_info": {
   "codemirror_mode": {
    "name": "ipython",
    "version": 3
   },
   "file_extension": ".py",
   "mimetype": "text/x-python",
   "name": "python",
   "nbconvert_exporter": "python",
   "pygments_lexer": "ipython3",
   "version": "3.6.4"
  }
 },
 "nbformat": 4,
 "nbformat_minor": 2
}
