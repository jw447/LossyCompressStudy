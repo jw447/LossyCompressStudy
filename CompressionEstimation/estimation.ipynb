{
 "cells": [
  {
   "cell_type": "code",
   "execution_count": 23,
   "metadata": {},
   "outputs": [
    {
     "name": "stdout",
     "output_type": "stream",
     "text": [
      "data length= 5691\n",
      "mu, std 16.0052714813 0.242201093732\n",
      "16.0056793103 0.241464935595\n",
      "s 3\n"
     ]
    }
   ],
   "source": [
    "import numpy as np\n",
    "from scipy.stats import norm\n",
    "import sys\n",
    "\n",
    "\n",
    "\n",
    "data_s1 = []\n",
    "with open('fish/fish-s10.txt') as f:\n",
    "    for line in f:\n",
    "        data_s1.append(int(line))\n",
    "\n",
    "print('data length=', len(data_s1))\n",
    "\n",
    "mu, std = norm.fit(data_s1)\n",
    "print('mu, std', mu, std)\n",
    "\n",
    "data_estimated = np.random.normal(loc=mu, scale=std, size=int(57199))\n",
    "mu_e, std_e = norm.fit(data_estimated)\n",
    "print(mu_e, std_e)\n",
    "\n",
    "s = set()\n",
    "for i in data_estimated:\n",
    "    if int(i) in s:\n",
    "        continue\n",
    "    else:\n",
    "        s.add(int(i))\n",
    "\n",
    "print('s', len(s))"
   ]
  },
  {
   "cell_type": "code",
   "execution_count": 22,
   "metadata": {},
   "outputs": [
    {
     "data": {
      "text/plain": [
       "57199.8208"
      ]
     },
     "execution_count": 22,
     "metadata": {},
     "output_type": "execute_result"
    }
   ],
   "source": [
    "65536*0.8728"
   ]
  },
  {
   "cell_type": "code",
   "execution_count": 21,
   "metadata": {},
   "outputs": [
    {
     "data": {
      "text/plain": [
       "{16}"
      ]
     },
     "execution_count": 21,
     "metadata": {},
     "output_type": "execute_result"
    }
   ],
   "source": [
    "s"
   ]
  },
  {
   "cell_type": "code",
   "execution_count": null,
   "metadata": {},
   "outputs": [],
   "source": [
    "5"
   ]
  }
 ],
 "metadata": {
  "kernelspec": {
   "display_name": "Python 3",
   "language": "python",
   "name": "python3"
  },
  "language_info": {
   "codemirror_mode": {
    "name": "ipython",
    "version": 3
   },
   "file_extension": ".py",
   "mimetype": "text/x-python",
   "name": "python",
   "nbconvert_exporter": "python",
   "pygments_lexer": "ipython3",
   "version": "3.6.4"
  }
 },
 "nbformat": 4,
 "nbformat_minor": 2
}
