{
 "cells": [
  {
   "cell_type": "code",
   "execution_count": 17,
   "metadata": {},
   "outputs": [
    {
     "name": "stdout",
     "output_type": "stream",
     "text": [
      "data length= 147\n",
      "mu, std 1040496.88435 234878.303486\n",
      "1037286.2152 235175.531826\n",
      "s 16335\n"
     ]
    }
   ],
   "source": [
    "import numpy as np\n",
    "from scipy.stats import norm\n",
    "import sys\n",
    "\n",
    "\n",
    "\n",
    "data_s1 = []\n",
    "with open('fish/fish-s1.txt') as f:\n",
    "    for line in f:\n",
    "        data_s1.append(int(line))\n",
    "\n",
    "print('data length=', len(data_s1))\n",
    "\n",
    "mu, std = norm.fit(data_s1)\n",
    "print('mu, std', mu, std)\n",
    "\n",
    "data_estimated = np.random.normal(loc=mu, scale=std, size=int(16524))\n",
    "mu_e, std_e = norm.fit(data_estimated)\n",
    "print(mu_e, std_e)\n",
    "\n",
    "s = set()\n",
    "for i in data_estimated:\n",
    "    if int(i) in s:\n",
    "        continue\n",
    "    else:\n",
    "        s.add(int(i))\n",
    "\n",
    "print('s', len(s))"
   ]
  },
  {
   "cell_type": "code",
   "execution_count": 16,
   "metadata": {},
   "outputs": [
    {
     "data": {
      "text/plain": [
       "16524.159"
      ]
     },
     "execution_count": 16,
     "metadata": {},
     "output_type": "execute_result"
    }
   ],
   "source": [
    "20694*0.7985"
   ]
  },
  {
   "cell_type": "code",
   "execution_count": null,
   "metadata": {},
   "outputs": [],
   "source": []
  }
 ],
 "metadata": {
  "kernelspec": {
   "display_name": "Python 3",
   "language": "python",
   "name": "python3"
  },
  "language_info": {
   "codemirror_mode": {
    "name": "ipython",
    "version": 3
   },
   "file_extension": ".py",
   "mimetype": "text/x-python",
   "name": "python",
   "nbconvert_exporter": "python",
   "pygments_lexer": "ipython3",
   "version": "3.6.4"
  }
 },
 "nbformat": 4,
 "nbformat_minor": 2
}
